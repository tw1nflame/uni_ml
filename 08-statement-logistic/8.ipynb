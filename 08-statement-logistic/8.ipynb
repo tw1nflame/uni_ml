{
  "cells": [
    {
      "cell_type": "markdown",
      "metadata": {},
      "source": [
        "Загрузите данные из файла data-logistic.csv. Это двумерная выборка, целевая переменная на которой принимает значения -1 или 1."
      ]
    },
    {
      "cell_type": "code",
      "execution_count": 42,
      "metadata": {
        "id": "2duUmJlhJYbv"
      },
      "outputs": [],
      "source": [
        "import pandas as pd\n",
        "import numpy as np\n",
        "\n",
        "data = pd.read_csv('data-logistic.csv', names=[0, 1, 2])\n",
        "\n",
        "xs = data[[1, 2]].to_numpy()\n",
        "y = data[[0]].to_numpy()"
      ]
    },
    {
      "cell_type": "markdown",
      "metadata": {},
      "source": [
        "Реализуйте градиентный спуск для обычной и L2-регуляризованной\n",
        "(с коэффициентом регуляризации 10) логистической регрессии. Используйте длину шага k=0.1. В качестве начального приближения\n",
        "используйте вектор (0, 0)."
      ]
    },
    {
      "cell_type": "code",
      "execution_count": 43,
      "metadata": {
        "id": "AIr0QXoFLMQS"
      },
      "outputs": [],
      "source": [
        "def grad_f(w, y, xs, c, k):\n",
        "    w1 = w[0]\n",
        "    w2 = w[1]\n",
        "    s1 = 0\n",
        "    s2 = 0\n",
        "    n = xs.shape[0]\n",
        "    for i in range(n):\n",
        "        x = xs[i]\n",
        "        s1 += y[i] * x[0] * (1 - 1 / (1 + np.exp(-y[i]*(w1 * x[0] + w2 * x[1]))))\n",
        "        s2 += y[i] * x[1] * (1 - 1 / (1 + np.exp(-y[i]*(w1 * x[0] + w2 * x[1]))))\n",
        "    return np.array([(w1 + k / n * s1 - k * c * w1)[0], (w2 + k / n * s2 - k * c * w2)[0]])\n",
        "        \n",
        "  "
      ]
    },
    {
      "cell_type": "code",
      "execution_count": 44,
      "metadata": {
        "id": "OtaBlzEbdZmE"
      },
      "outputs": [],
      "source": [
        "def grad_decent(c, k=0.1, w=np.array([0, 0])):\n",
        "  pred_w = w\n",
        "  next_w = grad_f(w, y, xs, c, k)\n",
        "  iters = 0\n",
        "  while (np.abs(pred_w - next_w)[0] > 10 ** -5) and (np.abs(pred_w - next_w)[1] > 10 ** -5) and iters < 10000:\n",
        "    iters += 1\n",
        "    pred_w = next_w\n",
        "    next_w = grad_f(pred_w, y, xs, c, k)\n",
        "\n",
        "  return next_w"
      ]
    },
    {
      "cell_type": "markdown",
      "metadata": {},
      "source": [
        "Запустите градиентный спуск и доведите до сходимости (евклидово\n",
        "расстояние между векторами весов на соседних итерациях должно быть не больше 1e-5). Рекомендуется ограничить сверху число\n",
        "итераций десятью тысячами."
      ]
    },
    {
      "cell_type": "code",
      "execution_count": 45,
      "metadata": {
        "colab": {
          "base_uri": "https://localhost:8080/"
        },
        "id": "_wGAOT3Xdkxm",
        "outputId": "ee8fd35e-b581-4dba-cd84-65bb49689dd5"
      },
      "outputs": [
        {
          "name": "stdout",
          "output_type": "stream",
          "text": [
            "[0.02855875 0.02478014]\n"
          ]
        }
      ],
      "source": [
        "w_reg = grad_decent(10)\n",
        "\n",
        "print(w_reg)"
      ]
    },
    {
      "cell_type": "code",
      "execution_count": 46,
      "metadata": {
        "id": "S5DkzzThG51E"
      },
      "outputs": [],
      "source": [
        "def a(x, w):\n",
        "  return 1 / (1 + np.exp(-np.dot(x, w)))"
      ]
    },
    {
      "cell_type": "markdown",
      "metadata": {},
      "source": [
        "Какое значение принимает AUC-ROC на обучении без регуляризации и при ее использовании? Эти величины будут ответом на\n",
        "задание. В качестве ответа приведите два числа через пробел. Обратите внимание, что на вход функции roc_auc_score нужно подавать оценки вероятностей, подсчитанные обученным алгоритмом.\n",
        "Для этого воспользуйтесь сигмоидной функцией: a(x) = 1/(1 +\n",
        "exp(−w1x1 − w2x2)"
      ]
    },
    {
      "cell_type": "code",
      "execution_count": 47,
      "metadata": {
        "colab": {
          "base_uri": "https://localhost:8080/"
        },
        "id": "pWKyuIDZHPVx",
        "outputId": "d955ce25-c041-460f-f062-a420f42130b8"
      },
      "outputs": [
        {
          "name": "stdout",
          "output_type": "stream",
          "text": [
            "Без регуляризации 0.7311904761904762\n",
            "С регуляризацией 0.7211904761904762\n"
          ]
        }
      ],
      "source": [
        "from sklearn.metrics import roc_auc_score\n",
        "\n",
        "\n",
        "w_withoutreg = grad_decent(0)\n",
        "\n",
        "y_no_reg = np.expand_dims(a(xs, w_withoutreg), 1)\n",
        "y_reg = np.expand_dims(a(xs, w_reg), 1)\n",
        "\n",
        "print(f'Без регуляризации {roc_auc_score(y, np.round(y_no_reg))}')\n",
        "print(f'С регуляризацией {roc_auc_score(y, np.round(y_reg))}')\n",
        "\n"
      ]
    },
    {
      "cell_type": "code",
      "execution_count": 48,
      "metadata": {
        "id": "LIdq0APpK7_f"
      },
      "outputs": [],
      "source": [
        "def test_params(k=0.1, c=10, w0=np.array([0, 0])):\n",
        "  w = grad_decent(c, k, w0)\n",
        "  y_pred = a(xs, w)\n",
        "  return roc_auc_score(y, np.round(y_pred))\n"
      ]
    },
    {
      "cell_type": "markdown",
      "metadata": {},
      "source": [
        "Попробуйте поменять длину шага. Будет ли сходиться алгоритм,\n",
        "если делать более длинные шаги? Как меняется число итераций\n",
        "при уменьшении длины шага? Попробуйте менять начальное приближение. Влияет ли оно на чтонибудь?"
      ]
    },
    {
      "cell_type": "code",
      "execution_count": 50,
      "metadata": {
        "colab": {
          "base_uri": "https://localhost:8080/"
        },
        "id": "UWcLs_leLYfb",
        "outputId": "12010909-9681-413c-eff2-84572f50530e"
      },
      "outputs": [
        {
          "name": "stderr",
          "output_type": "stream",
          "text": [
            "C:\\Users\\пк\\AppData\\Local\\Temp\\ipykernel_8184\\3702263714.py:9: RuntimeWarning: overflow encountered in exp\n",
            "  s1 += y[i] * x[0] * (1 - 1 / (1 + np.exp(-y[i]*(w1 * x[0] + w2 * x[1]))))\n",
            "C:\\Users\\пк\\AppData\\Local\\Temp\\ipykernel_8184\\3702263714.py:10: RuntimeWarning: overflow encountered in exp\n",
            "  s2 += y[i] * x[1] * (1 - 1 / (1 + np.exp(-y[i]*(w1 * x[0] + w2 * x[1]))))\n",
            "C:\\Users\\пк\\AppData\\Local\\Temp\\ipykernel_8184\\3702263714.py:9: RuntimeWarning: overflow encountered in exp\n",
            "  s1 += y[i] * x[0] * (1 - 1 / (1 + np.exp(-y[i]*(w1 * x[0] + w2 * x[1]))))\n",
            "C:\\Users\\пк\\AppData\\Local\\Temp\\ipykernel_8184\\3702263714.py:10: RuntimeWarning: overflow encountered in exp\n",
            "  s2 += y[i] * x[1] * (1 - 1 / (1 + np.exp(-y[i]*(w1 * x[0] + w2 * x[1]))))\n"
          ]
        },
        {
          "name": "stdout",
          "output_type": "stream",
          "text": [
            "0.7211904761904762\n",
            "0.7211904761904762\n",
            "0.7211904761904762\n"
          ]
        }
      ],
      "source": [
        "print(test_params(0.1, 10, np.array([50, 50])))\n",
        "print(test_params(0.01, 10, np.array([50, 50])))\n",
        "print(test_params(0.01, 10, np.array([10, 10])))\n",
        "\n",
        "\n"
      ]
    }
  ],
  "metadata": {
    "colab": {
      "provenance": []
    },
    "kernelspec": {
      "display_name": "Python 3",
      "name": "python3"
    },
    "language_info": {
      "codemirror_mode": {
        "name": "ipython",
        "version": 3
      },
      "file_extension": ".py",
      "mimetype": "text/x-python",
      "name": "python",
      "nbconvert_exporter": "python",
      "pygments_lexer": "ipython3",
      "version": "3.12.2"
    }
  },
  "nbformat": 4,
  "nbformat_minor": 0
}
