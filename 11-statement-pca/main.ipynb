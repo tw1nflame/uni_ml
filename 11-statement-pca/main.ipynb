{
 "cells": [
  {
   "cell_type": "code",
   "execution_count": 2,
   "metadata": {},
   "outputs": [],
   "source": [
    "import pandas as pd\n",
    "import numpy as np"
   ]
  },
  {
   "cell_type": "markdown",
   "metadata": {},
   "source": [
    "Загрузите данные close_prices.csv. В этом файле приведены цены\n",
    "акций 30 компаний на закрытии торгов за каждый день периода"
   ]
  },
  {
   "cell_type": "code",
   "execution_count": 3,
   "metadata": {},
   "outputs": [],
   "source": [
    "prices = pd.read_csv('close_prices.csv')\n",
    "prices_no_date = prices.drop(['date'], axis=1)"
   ]
  },
  {
   "cell_type": "markdown",
   "metadata": {},
   "source": [
    "На загруженных данных обучите преобразование PCA с числом\n",
    "компоненты равным 10. "
   ]
  },
  {
   "cell_type": "code",
   "execution_count": 4,
   "metadata": {},
   "outputs": [
    {
     "data": {
      "text/plain": [
       "0.9883646929108258"
      ]
     },
     "execution_count": 4,
     "metadata": {},
     "output_type": "execute_result"
    }
   ],
   "source": [
    "from sklearn.decomposition import PCA\n",
    "\n",
    "pca = PCA(10)\n",
    "pca.fit(prices_no_date)\n",
    "\n",
    "np.sum(pca.explained_variance_ratio_)"
   ]
  },
  {
   "cell_type": "markdown",
   "metadata": {},
   "source": [
    "Скольких компонент хватит, чтобы объяснить 90% дисперсии?"
   ]
  },
  {
   "cell_type": "code",
   "execution_count": 5,
   "metadata": {},
   "outputs": [
    {
     "name": "stdout",
     "output_type": "stream",
     "text": [
      "0 компонент, объяснено дисперсии: 0.0\n",
      "1 компонент, объяснено дисперсии: 0.7389711827152152\n",
      "2 компонент, объяснено дисперсии: 0.8490428728139175\n",
      "3 компонент, объяснено дисперсии: 0.8989937555837076\n",
      "4 компонент, объяснено дисперсии: 0.9277429537836401\n",
      "5 компонент, объяснено дисперсии: 0.9498974326632792\n",
      "6 компонент, объяснено дисперсии: 0.9692131991737118\n",
      "7 компонент, объяснено дисперсии: 0.9759617307369695\n",
      "8 компонент, объяснено дисперсии: 0.9821026409235677\n",
      "9 компонент, объяснено дисперсии: 0.9853085826092454\n"
     ]
    }
   ],
   "source": [
    "for n in range(10):\n",
    "    pca_n = PCA(n)\n",
    "    pca_n.fit(prices_no_date)\n",
    "    print(f'{n} компонент, объяснено дисперсии: {np.sum(pca_n.explained_variance_ratio_)}')"
   ]
  },
  {
   "cell_type": "markdown",
   "metadata": {},
   "source": [
    "Примените построенное преобразование к исходным данным и возьмите значения первой компоненты."
   ]
  },
  {
   "cell_type": "code",
   "execution_count": 6,
   "metadata": {},
   "outputs": [],
   "source": [
    "pca_n = PCA(4)\n",
    "pca_n.fit(prices_no_date)\n",
    "transformed = pca_n.transform(prices_no_date)\n",
    "\n",
    "\n",
    "first_component = transformed[:, 0]"
   ]
  },
  {
   "cell_type": "markdown",
   "metadata": {},
   "source": [
    "Загрузите информацию об индексе Доу-Джонса из файла djia_prices.csv.\n",
    "Чему равна корреляция Пирсона между первой компонентой и индексом Доу-Джонса"
   ]
  },
  {
   "cell_type": "code",
   "execution_count": 7,
   "metadata": {},
   "outputs": [],
   "source": [
    "djia = pd.read_csv('djia_index.csv')\n",
    "djia_ind = djia['^DJI']\n",
    "\n"
   ]
  },
  {
   "cell_type": "code",
   "execution_count": 8,
   "metadata": {},
   "outputs": [
    {
     "name": "stdout",
     "output_type": "stream",
     "text": [
      "[[1.         0.90965222]\n",
      " [0.90965222 1.        ]]\n"
     ]
    }
   ],
   "source": [
    "print(np.corrcoef(first_component, djia_ind))"
   ]
  },
  {
   "cell_type": "markdown",
   "metadata": {},
   "source": [
    " Какая компания имеет наибольший вес в первой компоненте?"
   ]
  },
  {
   "cell_type": "code",
   "execution_count": 48,
   "metadata": {},
   "outputs": [
    {
     "name": "stdout",
     "output_type": "stream",
     "text": [
      "V\n"
     ]
    }
   ],
   "source": [
    "max_weight = np.argmax(pca_n.components_[0, :])\n",
    "\n",
    "print(prices_no_date.columns[max_weight])"
   ]
  }
 ],
 "metadata": {
  "kernelspec": {
   "display_name": "Python 3",
   "language": "python",
   "name": "python3"
  },
  "language_info": {
   "codemirror_mode": {
    "name": "ipython",
    "version": 3
   },
   "file_extension": ".py",
   "mimetype": "text/x-python",
   "name": "python",
   "nbconvert_exporter": "python",
   "pygments_lexer": "ipython3",
   "version": "3.12.2"
  }
 },
 "nbformat": 4,
 "nbformat_minor": 2
}
