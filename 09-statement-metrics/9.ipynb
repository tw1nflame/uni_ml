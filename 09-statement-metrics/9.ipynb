{
  "cells": [
    {
      "cell_type": "code",
      "execution_count": 1,
      "metadata": {
        "colab": {
          "base_uri": "https://localhost:8080/"
        },
        "id": "OiQleLHFKr1y",
        "outputId": "f5008240-7b0c-4f69-82f0-dfc1ca537a07"
      },
      "outputs": [],
      "source": [
        "import pandas as pd\n",
        "import numpy as np\n",
        "\n",
        "from sklearn.metrics import accuracy_score, precision_score, recall_score, f1_score, roc_auc_score, precision_recall_curve\n",
        "\n",
        "classification = pd.read_csv('classification.csv')\n",
        "scores = pd.read_csv('scores.csv')\n"
      ]
    },
    {
      "cell_type": "code",
      "execution_count": 2,
      "metadata": {
        "colab": {
          "base_uri": "https://localhost:8080/"
        },
        "id": "7DAdiByYPgmo",
        "outputId": "2bd0bcec-ba70-447a-b2f3-b770f79911e8"
      },
      "outputs": [
        {
          "name": "stdout",
          "output_type": "stream",
          "text": [
            "TP 43\n",
            "FP 59\n",
            "FN 34\n",
            "TN 64\n"
          ]
        }
      ],
      "source": [
        "print('TP', ((classification['true'] == 1) & (classification['pred'] == 1)).sum())\n",
        "print('FP', ((classification['true'] == 1) & (classification['pred'] == 0)).sum())\n",
        "print('FN', ((classification['true'] == 0) & (classification['pred'] == 1)).sum())\n",
        "print('TN', ((classification['true'] == 0) & (classification['pred'] == 0)).sum())\n",
        "\n",
        "\n",
        "\n"
      ]
    },
    {
      "cell_type": "code",
      "execution_count": 3,
      "metadata": {
        "colab": {
          "base_uri": "https://localhost:8080/"
        },
        "id": "li4HBmXTRbKI",
        "outputId": "735795bd-e500-4366-d857-a2fddf7155c0"
      },
      "outputs": [
        {
          "name": "stdout",
          "output_type": "stream",
          "text": [
            "Accuracy 0.535\n",
            "Precision 0.5584415584415584\n",
            "Recall 0.4215686274509804\n",
            "f1 0.48044692737430167\n"
          ]
        }
      ],
      "source": [
        "print('Accuracy', accuracy_score(classification['true'], classification['pred']))\n",
        "print('Precision', precision_score(classification['true'], classification['pred']))\n",
        "print('Recall', recall_score(classification['true'], classification['pred']))\n",
        "print('f1', f1_score(classification['true'], classification['pred']))"
      ]
    },
    {
      "cell_type": "code",
      "execution_count": 14,
      "metadata": {},
      "outputs": [
        {
          "data": {
            "text/plain": [
              "0      1\n",
              "1      1\n",
              "2      0\n",
              "3      0\n",
              "4      0\n",
              "      ..\n",
              "195    0\n",
              "196    0\n",
              "197    0\n",
              "198    1\n",
              "199    0\n",
              "Name: score_svm, Length: 200, dtype: int64"
            ]
          },
          "execution_count": 14,
          "metadata": {},
          "output_type": "execute_result"
        }
      ],
      "source": [
        "(scores['score_svm'] > 0).apply(lambda x: 1 if x else 0)"
      ]
    },
    {
      "cell_type": "code",
      "execution_count": 15,
      "metadata": {
        "colab": {
          "base_uri": "https://localhost:8080/",
          "height": 356
        },
        "id": "BRGf2HYZR8Vl",
        "outputId": "54828774-532d-4b1b-e2a1-55a6bce50adf"
      },
      "outputs": [
        {
          "name": "stdout",
          "output_type": "stream",
          "text": [
            "score_logreg roc auc score = 0.6412565026010404\n",
            "score_knn roc auc score = 0.6100440176070429\n",
            "score_tree roc auc score = 0.6539615846338535\n",
            "score_svm roc auc score = 0.6631652661064426\n"
          ]
        }
      ],
      "source": [
        "for classifier in ['score_logreg', 'score_knn', 'score_tree']:\n",
        "  scores[classifier + '_pred_class'] = np.round(scores[classifier])\n",
        "scores['score_svm_pred_class'] = (scores['score_svm'] > 0).apply(lambda x: 1 if x else 0)\n",
        "\n",
        "for classifier in ['score_logreg', 'score_knn', 'score_tree', 'score_svm']:\n",
        "  print(classifier + ' roc auc score =', roc_auc_score(scores['true'], scores[classifier + '_pred_class']))"
      ]
    },
    {
      "cell_type": "code",
      "execution_count": 18,
      "metadata": {
        "colab": {
          "base_uri": "https://localhost:8080/"
        },
        "id": "R9AFlSSpVlPO",
        "outputId": "63076b00-d407-4735-e3ce-e8b5813ae7a8"
      },
      "outputs": [
        {
          "name": "stdout",
          "output_type": "stream",
          "text": [
            "score_logreg, max precision with recall > 0.7 =  0.6302521008403361\n",
            "score_knn, max precision with recall > 0.7 =  0.6065573770491803\n",
            "score_tree, max precision with recall > 0.7 =  0.6517857142857143\n",
            "score_svm, max precision with recall > 0.7 =  0.6228070175438597\n"
          ]
        }
      ],
      "source": [
        "for classifier in ['score_logreg', 'score_knn', 'score_tree', 'score_svm']:\n",
        "  prec, rec, thresh = precision_recall_curve(scores['true'], scores[classifier])\n",
        "  rec_higher = np.where(rec > 0.7)\n",
        "  print(f'{classifier}, max precision with recall > 0.7 = ', prec[rec_higher].max())"
      ]
    }
  ],
  "metadata": {
    "colab": {
      "provenance": []
    },
    "kernelspec": {
      "display_name": "Python 3",
      "name": "python3"
    },
    "language_info": {
      "codemirror_mode": {
        "name": "ipython",
        "version": 3
      },
      "file_extension": ".py",
      "mimetype": "text/x-python",
      "name": "python",
      "nbconvert_exporter": "python",
      "pygments_lexer": "ipython3",
      "version": "3.12.2"
    }
  },
  "nbformat": 4,
  "nbformat_minor": 0
}
