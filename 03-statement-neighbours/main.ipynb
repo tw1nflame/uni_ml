{
 "cells": [
  {
   "cell_type": "markdown",
   "metadata": {},
   "source": [
    "1. Загрузите выборку Wine, извлеките из данных признаки и классы."
   ]
  },
  {
   "cell_type": "code",
   "execution_count": 14,
   "metadata": {},
   "outputs": [],
   "source": [
    "import pandas as pd\n",
    "from sklearn.model_selection import KFold, cross_val_score\n",
    "from sklearn.neighbors import KNeighborsClassifier\n",
    "from sklearn.preprocessing import scale \n",
    "import numpy as np\n",
    "\n",
    "data = pd.read_csv('wine.data', index_col=False, names=['Class', 'Alcohol', 'Malic acid', 'Ash', 'Alcalinity of ash', 'Magnesium', 'Total phenols', 'Flavanoids', 'Nonflavanoid phenols', 'Proanthocyanins', 'Color intensity', 'Hue', 'OD280/OD315 of diluted wines', 'Proline'])\n",
    "\n",
    "y = data['Class']\n",
    "X = data[data.columns[1:]]\n"
   ]
  },
  {
   "cell_type": "markdown",
   "metadata": {},
   "source": [
    "Оценку качества необходимо провести методом кросс-валидации по 5 блокам (5-fold). Создайте генератор разбиений, который перемешивает выборку перед формированием блоков (shuffle=True). Для воспроизводимости результата, создавайте генератор KFold с фиксированным параметром random_state=42. В качестве меры качества используйте долю верных ответов (accuracy).\n"
   ]
  },
  {
   "cell_type": "code",
   "execution_count": 15,
   "metadata": {},
   "outputs": [],
   "source": [
    "folds = KFold(n_splits=5, shuffle=True, random_state=42)\n",
    "scores = [] "
   ]
  },
  {
   "cell_type": "markdown",
   "metadata": {},
   "source": [
    "Найдите точность классификации на кросс-валидации для метода k ближайших соседей (sklearn.neighbors.KNeighborsClassifier), при k от 1 до 50. При каком k получилось оптимальное качество? Чему оно равно (число в интервале от 0 до 1)."
   ]
  },
  {
   "cell_type": "code",
   "execution_count": 16,
   "metadata": {},
   "outputs": [
    {
     "name": "stdout",
     "output_type": "stream",
     "text": [
      "1\n",
      "0.6625396825396825\n"
     ]
    }
   ],
   "source": [
    "for k in range(1, 51):\n",
    "    classifier = KNeighborsClassifier(k)\n",
    "    score = cross_val_score(classifier, cv=folds, X=X, y=y, scoring=\"accuracy\")\n",
    "    scores.append(score.mean())\n",
    "\n",
    "print(np.argmax(scores) + 1) \n",
    "print(scores[np.argmax(scores) + 1])"
   ]
  },
  {
   "cell_type": "markdown",
   "metadata": {},
   "source": [
    "Произведите масштабирование признаков с помощью функции sklearn.preprocessing.scale. Снова найдите оптимальное k на кроссвалидации"
   ]
  },
  {
   "cell_type": "code",
   "execution_count": 17,
   "metadata": {},
   "outputs": [
    {
     "name": "stdout",
     "output_type": "stream",
     "text": [
      "29\n",
      "0.9607936507936508\n"
     ]
    }
   ],
   "source": [
    "\n",
    "\n",
    "X_scaled = scale(X)\n",
    "\n",
    "scores = []\n",
    "for k in range(1, 51):\n",
    "    classifier = KNeighborsClassifier(k)\n",
    "    score = cross_val_score(classifier, X=X_scaled, y=y, scoring=\"accuracy\", cv=folds)\n",
    "    scores.append(score.mean())\n",
    "\n",
    "print(np.argmax(scores) + 1) #значение смещено на один влево, ответ - 29\n",
    "print(scores[np.argmax(scores) + 1])\n"
   ]
  }
 ],
 "metadata": {
  "kernelspec": {
   "display_name": "Python 3",
   "language": "python",
   "name": "python3"
  },
  "language_info": {
   "codemirror_mode": {
    "name": "ipython",
    "version": 3
   },
   "file_extension": ".py",
   "mimetype": "text/x-python",
   "name": "python",
   "nbconvert_exporter": "python",
   "pygments_lexer": "ipython3",
   "version": "3.12.2"
  }
 },
 "nbformat": 4,
 "nbformat_minor": 2
}
