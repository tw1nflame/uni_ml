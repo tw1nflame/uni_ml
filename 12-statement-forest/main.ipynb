{
 "cells": [
  {
   "cell_type": "code",
   "execution_count": 1,
   "metadata": {},
   "outputs": [],
   "source": [
    "import numpy as np\n",
    "import pandas as pd"
   ]
  },
  {
   "cell_type": "markdown",
   "metadata": {},
   "source": [
    "Загрузите данные из файла abalone.csv. Это датасет, в котором требуется предсказать возраст ракушки (число колец) по физическим\n",
    "измерениям.\n"
   ]
  },
  {
   "cell_type": "code",
   "execution_count": 7,
   "metadata": {},
   "outputs": [
    {
     "data": {
      "text/html": [
       "<div>\n",
       "<style scoped>\n",
       "    .dataframe tbody tr th:only-of-type {\n",
       "        vertical-align: middle;\n",
       "    }\n",
       "\n",
       "    .dataframe tbody tr th {\n",
       "        vertical-align: top;\n",
       "    }\n",
       "\n",
       "    .dataframe thead th {\n",
       "        text-align: right;\n",
       "    }\n",
       "</style>\n",
       "<table border=\"1\" class=\"dataframe\">\n",
       "  <thead>\n",
       "    <tr style=\"text-align: right;\">\n",
       "      <th></th>\n",
       "      <th>Sex</th>\n",
       "      <th>Length</th>\n",
       "      <th>Diameter</th>\n",
       "      <th>Height</th>\n",
       "      <th>WholeWeight</th>\n",
       "      <th>ShuckedWeight</th>\n",
       "      <th>VisceraWeight</th>\n",
       "      <th>ShellWeight</th>\n",
       "      <th>Rings</th>\n",
       "    </tr>\n",
       "  </thead>\n",
       "  <tbody>\n",
       "    <tr>\n",
       "      <th>0</th>\n",
       "      <td>M</td>\n",
       "      <td>0.455</td>\n",
       "      <td>0.365</td>\n",
       "      <td>0.095</td>\n",
       "      <td>0.5140</td>\n",
       "      <td>0.2245</td>\n",
       "      <td>0.1010</td>\n",
       "      <td>0.150</td>\n",
       "      <td>15</td>\n",
       "    </tr>\n",
       "    <tr>\n",
       "      <th>1</th>\n",
       "      <td>M</td>\n",
       "      <td>0.350</td>\n",
       "      <td>0.265</td>\n",
       "      <td>0.090</td>\n",
       "      <td>0.2255</td>\n",
       "      <td>0.0995</td>\n",
       "      <td>0.0485</td>\n",
       "      <td>0.070</td>\n",
       "      <td>7</td>\n",
       "    </tr>\n",
       "    <tr>\n",
       "      <th>2</th>\n",
       "      <td>F</td>\n",
       "      <td>0.530</td>\n",
       "      <td>0.420</td>\n",
       "      <td>0.135</td>\n",
       "      <td>0.6770</td>\n",
       "      <td>0.2565</td>\n",
       "      <td>0.1415</td>\n",
       "      <td>0.210</td>\n",
       "      <td>9</td>\n",
       "    </tr>\n",
       "    <tr>\n",
       "      <th>3</th>\n",
       "      <td>M</td>\n",
       "      <td>0.440</td>\n",
       "      <td>0.365</td>\n",
       "      <td>0.125</td>\n",
       "      <td>0.5160</td>\n",
       "      <td>0.2155</td>\n",
       "      <td>0.1140</td>\n",
       "      <td>0.155</td>\n",
       "      <td>10</td>\n",
       "    </tr>\n",
       "    <tr>\n",
       "      <th>4</th>\n",
       "      <td>I</td>\n",
       "      <td>0.330</td>\n",
       "      <td>0.255</td>\n",
       "      <td>0.080</td>\n",
       "      <td>0.2050</td>\n",
       "      <td>0.0895</td>\n",
       "      <td>0.0395</td>\n",
       "      <td>0.055</td>\n",
       "      <td>7</td>\n",
       "    </tr>\n",
       "  </tbody>\n",
       "</table>\n",
       "</div>"
      ],
      "text/plain": [
       "  Sex  Length  Diameter  Height  WholeWeight  ShuckedWeight  VisceraWeight  \\\n",
       "0   M   0.455     0.365   0.095       0.5140         0.2245         0.1010   \n",
       "1   M   0.350     0.265   0.090       0.2255         0.0995         0.0485   \n",
       "2   F   0.530     0.420   0.135       0.6770         0.2565         0.1415   \n",
       "3   M   0.440     0.365   0.125       0.5160         0.2155         0.1140   \n",
       "4   I   0.330     0.255   0.080       0.2050         0.0895         0.0395   \n",
       "\n",
       "   ShellWeight  Rings  \n",
       "0        0.150     15  \n",
       "1        0.070      7  \n",
       "2        0.210      9  \n",
       "3        0.155     10  \n",
       "4        0.055      7  "
      ]
     },
     "execution_count": 7,
     "metadata": {},
     "output_type": "execute_result"
    }
   ],
   "source": [
    "data = pd.read_csv('abalone.csv')\n",
    "data.head()"
   ]
  },
  {
   "cell_type": "markdown",
   "metadata": {},
   "source": [
    "Преобразуйте признак Sex в числовой: значение F должно перейти\n",
    "в -1, I — в 0, M — в 1.\n"
   ]
  },
  {
   "cell_type": "code",
   "execution_count": 8,
   "metadata": {},
   "outputs": [],
   "source": [
    "data['Sex'] = data['Sex'].apply(lambda x: '-1' if x == 'F' else (0 if x == 'I' else '1'))"
   ]
  },
  {
   "cell_type": "markdown",
   "metadata": {},
   "source": [
    "Разделите содержимое файлов на признаки и целевую переменную.\n",
    "В последнем столбце записана целевая переменная, в остальных —\n",
    "признаки"
   ]
  },
  {
   "cell_type": "code",
   "execution_count": 10,
   "metadata": {},
   "outputs": [],
   "source": [
    "X = data.drop(['Rings'], axis=1)\n",
    "y = data['Rings']"
   ]
  },
  {
   "cell_type": "markdown",
   "metadata": {},
   "source": [
    "Обучите случайный лес (sklearn.ensemble.RandomForestRegressor)\n",
    "с различным числом деревьев: от 1 до 50 (random_state=1). Для\n",
    "каждого из вариантов оцените качество работы полученного леса\n",
    "на кросс-валидации по 5 блокам. Используйте параметры\n",
    "\"random_state=1\"и \"shuffle=True\"при создании генератора кроссвалидации sklearn.cross_validation.KFold. В качестве меры качества\n",
    "воспользуйтесь коэффициентом детерминации (sklearn.metrics.r2_score)."
   ]
  },
  {
   "cell_type": "code",
   "execution_count": 22,
   "metadata": {},
   "outputs": [
    {
     "name": "stdout",
     "output_type": "stream",
     "text": [
      "Number of trees: 1, R2 score: 0.10967482068860261\n",
      "Number of trees: 2, R2 score: 0.3413000096365689\n",
      "Number of trees: 3, R2 score: 0.406433829066129\n",
      "Number of trees: 4, R2 score: 0.4447745857536912\n",
      "Number of trees: 5, R2 score: 0.46503241426823594\n",
      "Number of trees: 6, R2 score: 0.47139595825898917\n",
      "Number of trees: 7, R2 score: 0.4766658451893487\n",
      "Number of trees: 8, R2 score: 0.4829348394224631\n",
      "Number of trees: 9, R2 score: 0.4894370162945041\n",
      "Number of trees: 10, R2 score: 0.4954085552428177\n",
      "Number of trees: 11, R2 score: 0.4944111155773555\n",
      "Number of trees: 12, R2 score: 0.49902817866563326\n",
      "Number of trees: 13, R2 score: 0.5030578549564464\n",
      "Number of trees: 14, R2 score: 0.5073168234618861\n",
      "Number of trees: 15, R2 score: 0.5091809969556578\n",
      "Number of trees: 16, R2 score: 0.5114105314179662\n",
      "Number of trees: 17, R2 score: 0.5148917747729636\n",
      "Number of trees: 18, R2 score: 0.5172203573170132\n",
      "Number of trees: 19, R2 score: 0.5198293095329432\n",
      "Number of trees: 20, R2 score: 0.51948435033775\n",
      "Number of trees: 21, R2 score: 0.520529096463528\n",
      "Number of trees: 22, R2 score: 0.5208044230080824\n",
      "Number of trees: 23, R2 score: 0.521742855685855\n",
      "Number of trees: 24, R2 score: 0.5231059969795335\n",
      "Number of trees: 25, R2 score: 0.5232486470488318\n",
      "Number of trees: 26, R2 score: 0.5243076139284634\n",
      "Number of trees: 27, R2 score: 0.5246393588459404\n",
      "Number of trees: 28, R2 score: 0.5256557724971402\n",
      "Number of trees: 29, R2 score: 0.5265556293057552\n",
      "Number of trees: 30, R2 score: 0.5270858715838138\n",
      "Number of trees: 31, R2 score: 0.5276420438225101\n",
      "Number of trees: 32, R2 score: 0.5289244806388986\n",
      "Number of trees: 33, R2 score: 0.5301073722643779\n",
      "Number of trees: 34, R2 score: 0.5299613734264366\n",
      "Number of trees: 35, R2 score: 0.5298209779129148\n",
      "Number of trees: 36, R2 score: 0.529910050667947\n",
      "Number of trees: 37, R2 score: 0.5294320415136227\n",
      "Number of trees: 38, R2 score: 0.5294715388671245\n",
      "Number of trees: 39, R2 score: 0.529515898349607\n",
      "Number of trees: 40, R2 score: 0.5294703580378128\n",
      "Number of trees: 41, R2 score: 0.5298087685207094\n",
      "Number of trees: 42, R2 score: 0.5300433306143383\n",
      "Number of trees: 43, R2 score: 0.5299135764090978\n",
      "Number of trees: 44, R2 score: 0.5296814957917958\n",
      "Number of trees: 45, R2 score: 0.528908112349864\n",
      "Number of trees: 46, R2 score: 0.5290083070325597\n",
      "Number of trees: 47, R2 score: 0.5291786571646144\n",
      "Number of trees: 48, R2 score: 0.5300509396315634\n",
      "Number of trees: 49, R2 score: 0.530813058616495\n",
      "Number of trees: 50, R2 score: 0.5309509147417047\n"
     ]
    }
   ],
   "source": [
    "from sklearn.ensemble import RandomForestRegressor\n",
    "from sklearn.model_selection import KFold, cross_val_score\n",
    "from sklearn.metrics import r2_score\n",
    "\n",
    "kf = KFold(n_splits=5, shuffle=True, random_state=1)\n",
    "\n",
    "for n_trees in range(1, 51):\n",
    "    model = RandomForestRegressor(n_estimators=n_trees, random_state=1)\n",
    "    avg_r2 = cross_val_score(model, X, y, scoring='r2', cv=kf).mean()\n",
    "    print(f\"Number of trees: {n_trees}, R2 score: {avg_r2}\")"
   ]
  },
  {
   "cell_type": "markdown",
   "metadata": {},
   "source": [
    "Определите, при каком минимальном количестве деревьев случайный лес показывает качество на кросс-валидации выше 0.52. Это\n",
    "количество и будет ответом на задание."
   ]
  },
  {
   "cell_type": "code",
   "execution_count": 23,
   "metadata": {},
   "outputs": [],
   "source": [
    "#Ответ - 21 дерево"
   ]
  },
  {
   "cell_type": "markdown",
   "metadata": {},
   "source": [
    "Обратите внимание на изменение качества по мере роста числа деревьев. Ухудшается ли оно?"
   ]
  },
  {
   "cell_type": "code",
   "execution_count": 24,
   "metadata": {},
   "outputs": [],
   "source": [
    "#Ответ - оно не ухудшается и не улучшается, после определенного количества деревьев оно становится неизменным"
   ]
  }
 ],
 "metadata": {
  "kernelspec": {
   "display_name": "Python 3",
   "language": "python",
   "name": "python3"
  },
  "language_info": {
   "codemirror_mode": {
    "name": "ipython",
    "version": 3
   },
   "file_extension": ".py",
   "mimetype": "text/x-python",
   "name": "python",
   "nbconvert_exporter": "python",
   "pygments_lexer": "ipython3",
   "version": "3.12.2"
  }
 },
 "nbformat": 4,
 "nbformat_minor": 2
}
